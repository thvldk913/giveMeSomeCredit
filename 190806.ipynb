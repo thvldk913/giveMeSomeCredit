{
 "cells": [
  {
   "cell_type": "code",
   "execution_count": 1,
   "metadata": {},
   "outputs": [
    {
     "name": "stdout",
     "output_type": "stream",
     "text": [
      "<class 'pandas.core.frame.DataFrame'>\n",
      "RangeIndex: 150000 entries, 0 to 149999\n",
      "Data columns (total 12 columns):\n",
      "Unnamed: 0                              150000 non-null int64\n",
      "SeriousDlqin2yrs                        150000 non-null int64\n",
      "RevolvingUtilizationOfUnsecuredLines    150000 non-null float64\n",
      "age                                     150000 non-null int64\n",
      "NumberOfTime30-59DaysPastDueNotWorse    150000 non-null int64\n",
      "DebtRatio                               150000 non-null float64\n",
      "MonthlyIncome                           120269 non-null float64\n",
      "NumberOfOpenCreditLinesAndLoans         150000 non-null int64\n",
      "NumberOfTimes90DaysLate                 150000 non-null int64\n",
      "NumberRealEstateLoansOrLines            150000 non-null int64\n",
      "NumberOfTime60-89DaysPastDueNotWorse    150000 non-null int64\n",
      "NumberOfDependents                      146076 non-null float64\n",
      "dtypes: float64(4), int64(8)\n",
      "memory usage: 13.7 MB\n"
     ]
    }
   ],
   "source": [
    "import pandas as pd\n",
    "import numpy as np\n",
    "import os\n",
    "import seaborn as sns\n",
    "import matplotlib.pyplot as plt\n",
    "\n",
    "os.chdir(r\"C:\\Users\\hyeon jin\\Downloads\\asiasummer3\\kaggleCreditAnalysis\\data3\")\n",
    "train_df = pd.read_csv('cs-training.csv', header='infer',encoding='latin1')\n",
    "train_df.info()"
   ]
  },
  {
   "cell_type": "code",
   "execution_count": 2,
   "metadata": {},
   "outputs": [],
   "source": [
    "train_df['NumberOfDependents'].fillna(train_df['NumberOfDependents'].median(), inplace=True)\n",
    "#train_df['MonthlyIncome'].fillna(train_df['MonthlyIncome'].median(), inplace=True)\n",
    "\n"
   ]
  },
  {
   "cell_type": "code",
   "execution_count": 3,
   "metadata": {},
   "outputs": [
    {
     "name": "stdout",
     "output_type": "stream",
     "text": [
      "<class 'pandas.core.frame.DataFrame'>\n",
      "RangeIndex: 150000 entries, 0 to 149999\n",
      "Data columns (total 12 columns):\n",
      "Unnamed: 0                              150000 non-null int64\n",
      "SeriousDlqin2yrs                        150000 non-null int64\n",
      "RevolvingUtilizationOfUnsecuredLines    150000 non-null float64\n",
      "age                                     150000 non-null int64\n",
      "NumberOfTime30-59DaysPastDueNotWorse    150000 non-null int64\n",
      "DebtRatio                               150000 non-null float64\n",
      "MonthlyIncome                           120269 non-null float64\n",
      "NumberOfOpenCreditLinesAndLoans         150000 non-null int64\n",
      "NumberOfTimes90DaysLate                 150000 non-null int64\n",
      "NumberRealEstateLoansOrLines            150000 non-null int64\n",
      "NumberOfTime60-89DaysPastDueNotWorse    150000 non-null int64\n",
      "NumberOfDependents                      150000 non-null float64\n",
      "dtypes: float64(4), int64(8)\n",
      "memory usage: 13.7 MB\n"
     ]
    }
   ],
   "source": [
    "train_df.info()"
   ]
  },
  {
   "cell_type": "code",
   "execution_count": null,
   "metadata": {},
   "outputs": [],
   "source": []
  },
  {
   "cell_type": "code",
   "execution_count": null,
   "metadata": {},
   "outputs": [],
   "source": []
  },
  {
   "cell_type": "markdown",
   "metadata": {},
   "source": [
    "# 1번 set"
   ]
  },
  {
   "cell_type": "markdown",
   "metadata": {},
   "source": [
    "### MonthlyIncome 0, 1, NaN 삭제"
   ]
  },
  {
   "cell_type": "code",
   "execution_count": 5,
   "metadata": {},
   "outputs": [
    {
     "data": {
      "text/plain": [
       "Int64Index([     6,      8,     14,     16,     32,     41,     44,     50,\n",
       "                52,     58,\n",
       "            ...\n",
       "            149960, 149963, 149965, 149967, 149975, 149976, 149977, 149984,\n",
       "            149992, 149997],\n",
       "           dtype='int64', length=31970)"
      ]
     },
     "execution_count": 5,
     "metadata": {},
     "output_type": "execute_result"
    }
   ],
   "source": [
    "con1 = train_df[(train_df['MonthlyIncome'] <= 1) | (train_df['MonthlyIncome'].isnull() == True)]\n",
    "#con1 = train_df[(train_df['DebtRatio'] > a.quantile([.75]).values[0])]\n",
    "con1.index"
   ]
  },
  {
   "cell_type": "code",
   "execution_count": 7,
   "metadata": {},
   "outputs": [
    {
     "data": {
      "text/plain": [
       "149997"
      ]
     },
     "execution_count": 7,
     "metadata": {},
     "output_type": "execute_result"
    }
   ],
   "source": [
    "con1.index[31969]"
   ]
  },
  {
   "cell_type": "code",
   "execution_count": 8,
   "metadata": {},
   "outputs": [],
   "source": [
    "train_df = train_df.drop(train_df.index[con1.index[0:31969].values])"
   ]
  },
  {
   "cell_type": "code",
   "execution_count": 9,
   "metadata": {},
   "outputs": [
    {
     "name": "stdout",
     "output_type": "stream",
     "text": [
      "<class 'pandas.core.frame.DataFrame'>\n",
      "Int64Index: 118031 entries, 0 to 149999\n",
      "Data columns (total 12 columns):\n",
      "Unnamed: 0                              118031 non-null int64\n",
      "SeriousDlqin2yrs                        118031 non-null int64\n",
      "RevolvingUtilizationOfUnsecuredLines    118031 non-null float64\n",
      "age                                     118031 non-null int64\n",
      "NumberOfTime30-59DaysPastDueNotWorse    118031 non-null int64\n",
      "DebtRatio                               118031 non-null float64\n",
      "MonthlyIncome                           118030 non-null float64\n",
      "NumberOfOpenCreditLinesAndLoans         118031 non-null int64\n",
      "NumberOfTimes90DaysLate                 118031 non-null int64\n",
      "NumberRealEstateLoansOrLines            118031 non-null int64\n",
      "NumberOfTime60-89DaysPastDueNotWorse    118031 non-null int64\n",
      "NumberOfDependents                      118031 non-null float64\n",
      "dtypes: float64(4), int64(8)\n",
      "memory usage: 11.7 MB\n"
     ]
    }
   ],
   "source": [
    "train_df.info()"
   ]
  },
  {
   "cell_type": "code",
   "execution_count": 10,
   "metadata": {},
   "outputs": [],
   "source": [
    "train_df['MonthlyIncome'].fillna(train_df['MonthlyIncome'].median(), inplace=True)"
   ]
  },
  {
   "cell_type": "code",
   "execution_count": 11,
   "metadata": {},
   "outputs": [
    {
     "name": "stdout",
     "output_type": "stream",
     "text": [
      "<class 'pandas.core.frame.DataFrame'>\n",
      "Int64Index: 118031 entries, 0 to 149999\n",
      "Data columns (total 12 columns):\n",
      "Unnamed: 0                              118031 non-null int64\n",
      "SeriousDlqin2yrs                        118031 non-null int64\n",
      "RevolvingUtilizationOfUnsecuredLines    118031 non-null float64\n",
      "age                                     118031 non-null int64\n",
      "NumberOfTime30-59DaysPastDueNotWorse    118031 non-null int64\n",
      "DebtRatio                               118031 non-null float64\n",
      "MonthlyIncome                           118031 non-null float64\n",
      "NumberOfOpenCreditLinesAndLoans         118031 non-null int64\n",
      "NumberOfTimes90DaysLate                 118031 non-null int64\n",
      "NumberRealEstateLoansOrLines            118031 non-null int64\n",
      "NumberOfTime60-89DaysPastDueNotWorse    118031 non-null int64\n",
      "NumberOfDependents                      118031 non-null float64\n",
      "dtypes: float64(4), int64(8)\n",
      "memory usage: 11.7 MB\n"
     ]
    }
   ],
   "source": [
    "train_df.info()"
   ]
  },
  {
   "cell_type": "code",
   "execution_count": null,
   "metadata": {},
   "outputs": [],
   "source": []
  },
  {
   "cell_type": "markdown",
   "metadata": {},
   "source": [
    "# 2번 set"
   ]
  },
  {
   "cell_type": "markdown",
   "metadata": {},
   "source": [
    "### MonthlyIncome 0, 1, NaN 삭제 -> DebtRatio 상위 25% 삭제 -> MontylyIncome median 처리"
   ]
  },
  {
   "cell_type": "code",
   "execution_count": 4,
   "metadata": {},
   "outputs": [
    {
     "data": {
      "text/plain": [
       "count    150000.000000\n",
       "mean        353.005076\n",
       "std        2037.818523\n",
       "min           0.000000\n",
       "25%           0.175074\n",
       "50%           0.366508\n",
       "75%           0.868254\n",
       "max      329664.000000\n",
       "Name: DebtRatio, dtype: float64"
      ]
     },
     "execution_count": 4,
     "metadata": {},
     "output_type": "execute_result"
    }
   ],
   "source": [
    "a = train_df.loc[:,'DebtRatio']\n",
    "a.describe()"
   ]
  },
  {
   "cell_type": "code",
   "execution_count": 5,
   "metadata": {},
   "outputs": [
    {
     "data": {
      "text/plain": [
       "0.86825377325"
      ]
     },
     "execution_count": 5,
     "metadata": {},
     "output_type": "execute_result"
    }
   ],
   "source": [
    "train_df['DebtRatio'].quantile([.75]).values[0]"
   ]
  },
  {
   "cell_type": "code",
   "execution_count": 6,
   "metadata": {},
   "outputs": [
    {
     "data": {
      "text/plain": [
       "Int64Index([     6,     50,     58,     73,     86,     90,     92,    109,\n",
       "               124,    141,\n",
       "            ...\n",
       "            149870, 149885, 149922, 149923, 149924, 149932, 149958, 149975,\n",
       "            149992, 149997],\n",
       "           dtype='int64', length=7992)"
      ]
     },
     "execution_count": 6,
     "metadata": {},
     "output_type": "execute_result"
    }
   ],
   "source": [
    "con1 = train_df[(train_df['MonthlyIncome'] <= 1) | (train_df['MonthlyIncome'].isnull() == True)]\n",
    "con1 = con1[(con1['DebtRatio'] > con1['DebtRatio'].quantile([.75]).values[0])]\n",
    "con1.index"
   ]
  },
  {
   "cell_type": "code",
   "execution_count": 7,
   "metadata": {},
   "outputs": [
    {
     "data": {
      "text/plain": [
       "149997"
      ]
     },
     "execution_count": 7,
     "metadata": {},
     "output_type": "execute_result"
    }
   ],
   "source": [
    "con1.index[7991]"
   ]
  },
  {
   "cell_type": "code",
   "execution_count": 8,
   "metadata": {},
   "outputs": [],
   "source": [
    "train_df = train_df.drop(train_df.index[con1.index[0:7991].values])"
   ]
  },
  {
   "cell_type": "code",
   "execution_count": 9,
   "metadata": {},
   "outputs": [
    {
     "name": "stdout",
     "output_type": "stream",
     "text": [
      "<class 'pandas.core.frame.DataFrame'>\n",
      "Int64Index: 142009 entries, 0 to 149999\n",
      "Data columns (total 12 columns):\n",
      "Unnamed: 0                              142009 non-null int64\n",
      "SeriousDlqin2yrs                        142009 non-null int64\n",
      "RevolvingUtilizationOfUnsecuredLines    142009 non-null float64\n",
      "age                                     142009 non-null int64\n",
      "NumberOfTime30-59DaysPastDueNotWorse    142009 non-null int64\n",
      "DebtRatio                               142009 non-null float64\n",
      "MonthlyIncome                           119865 non-null float64\n",
      "NumberOfOpenCreditLinesAndLoans         142009 non-null int64\n",
      "NumberOfTimes90DaysLate                 142009 non-null int64\n",
      "NumberRealEstateLoansOrLines            142009 non-null int64\n",
      "NumberOfTime60-89DaysPastDueNotWorse    142009 non-null int64\n",
      "NumberOfDependents                      142009 non-null float64\n",
      "dtypes: float64(4), int64(8)\n",
      "memory usage: 14.1 MB\n"
     ]
    }
   ],
   "source": [
    "train_df.info()"
   ]
  },
  {
   "cell_type": "code",
   "execution_count": 10,
   "metadata": {},
   "outputs": [],
   "source": [
    "train_df['MonthlyIncome'].fillna(train_df['MonthlyIncome'].median(), inplace=True)"
   ]
  },
  {
   "cell_type": "code",
   "execution_count": 11,
   "metadata": {},
   "outputs": [
    {
     "name": "stdout",
     "output_type": "stream",
     "text": [
      "<class 'pandas.core.frame.DataFrame'>\n",
      "Int64Index: 142009 entries, 0 to 149999\n",
      "Data columns (total 12 columns):\n",
      "Unnamed: 0                              142009 non-null int64\n",
      "SeriousDlqin2yrs                        142009 non-null int64\n",
      "RevolvingUtilizationOfUnsecuredLines    142009 non-null float64\n",
      "age                                     142009 non-null int64\n",
      "NumberOfTime30-59DaysPastDueNotWorse    142009 non-null int64\n",
      "DebtRatio                               142009 non-null float64\n",
      "MonthlyIncome                           142009 non-null float64\n",
      "NumberOfOpenCreditLinesAndLoans         142009 non-null int64\n",
      "NumberOfTimes90DaysLate                 142009 non-null int64\n",
      "NumberRealEstateLoansOrLines            142009 non-null int64\n",
      "NumberOfTime60-89DaysPastDueNotWorse    142009 non-null int64\n",
      "NumberOfDependents                      142009 non-null float64\n",
      "dtypes: float64(4), int64(8)\n",
      "memory usage: 14.1 MB\n"
     ]
    }
   ],
   "source": [
    "train_df.info()"
   ]
  },
  {
   "cell_type": "code",
   "execution_count": null,
   "metadata": {},
   "outputs": [],
   "source": []
  },
  {
   "cell_type": "markdown",
   "metadata": {},
   "source": [
    "# 3번 set"
   ]
  },
  {
   "cell_type": "markdown",
   "metadata": {},
   "source": [
    "### DebtRatio 상위 25% 삭제 -> MonthlyIncome median 처리"
   ]
  },
  {
   "cell_type": "code",
   "execution_count": 4,
   "metadata": {},
   "outputs": [],
   "source": [
    "con1 = train_df[(train_df['DebtRatio'] > train_df['DebtRatio'].quantile([.75]).values[0])]"
   ]
  },
  {
   "cell_type": "code",
   "execution_count": 5,
   "metadata": {},
   "outputs": [
    {
     "data": {
      "text/plain": [
       "Int64Index([     6,      8,     14,     16,     25,     32,     41,     44,\n",
       "                50,     58,\n",
       "            ...\n",
       "            149960, 149963, 149965, 149967, 149975, 149976, 149977, 149984,\n",
       "            149992, 149997],\n",
       "           dtype='int64', length=37500)"
      ]
     },
     "execution_count": 5,
     "metadata": {},
     "output_type": "execute_result"
    }
   ],
   "source": [
    "con1.index"
   ]
  },
  {
   "cell_type": "code",
   "execution_count": 6,
   "metadata": {},
   "outputs": [],
   "source": [
    "train_df = train_df.drop(train_df.index[con1.index[0:37499].values])"
   ]
  },
  {
   "cell_type": "code",
   "execution_count": 8,
   "metadata": {},
   "outputs": [
    {
     "name": "stdout",
     "output_type": "stream",
     "text": [
      "<class 'pandas.core.frame.DataFrame'>\n",
      "Int64Index: 112501 entries, 0 to 149999\n",
      "Data columns (total 12 columns):\n",
      "Unnamed: 0                              112501 non-null int64\n",
      "SeriousDlqin2yrs                        112501 non-null int64\n",
      "RevolvingUtilizationOfUnsecuredLines    112501 non-null float64\n",
      "age                                     112501 non-null int64\n",
      "NumberOfTime30-59DaysPastDueNotWorse    112501 non-null int64\n",
      "DebtRatio                               112501 non-null float64\n",
      "MonthlyIncome                           110878 non-null float64\n",
      "NumberOfOpenCreditLinesAndLoans         112501 non-null int64\n",
      "NumberOfTimes90DaysLate                 112501 non-null int64\n",
      "NumberRealEstateLoansOrLines            112501 non-null int64\n",
      "NumberOfTime60-89DaysPastDueNotWorse    112501 non-null int64\n",
      "NumberOfDependents                      112501 non-null float64\n",
      "dtypes: float64(4), int64(8)\n",
      "memory usage: 11.2 MB\n"
     ]
    }
   ],
   "source": [
    "train_df.info()"
   ]
  },
  {
   "cell_type": "code",
   "execution_count": 9,
   "metadata": {},
   "outputs": [],
   "source": [
    "train_df['MonthlyIncome'].fillna(train_df['MonthlyIncome'].median(), inplace=True)"
   ]
  },
  {
   "cell_type": "code",
   "execution_count": 10,
   "metadata": {},
   "outputs": [
    {
     "name": "stdout",
     "output_type": "stream",
     "text": [
      "<class 'pandas.core.frame.DataFrame'>\n",
      "Int64Index: 112501 entries, 0 to 149999\n",
      "Data columns (total 12 columns):\n",
      "Unnamed: 0                              112501 non-null int64\n",
      "SeriousDlqin2yrs                        112501 non-null int64\n",
      "RevolvingUtilizationOfUnsecuredLines    112501 non-null float64\n",
      "age                                     112501 non-null int64\n",
      "NumberOfTime30-59DaysPastDueNotWorse    112501 non-null int64\n",
      "DebtRatio                               112501 non-null float64\n",
      "MonthlyIncome                           112501 non-null float64\n",
      "NumberOfOpenCreditLinesAndLoans         112501 non-null int64\n",
      "NumberOfTimes90DaysLate                 112501 non-null int64\n",
      "NumberRealEstateLoansOrLines            112501 non-null int64\n",
      "NumberOfTime60-89DaysPastDueNotWorse    112501 non-null int64\n",
      "NumberOfDependents                      112501 non-null float64\n",
      "dtypes: float64(4), int64(8)\n",
      "memory usage: 11.2 MB\n"
     ]
    }
   ],
   "source": [
    "train_df.info()"
   ]
  },
  {
   "cell_type": "code",
   "execution_count": null,
   "metadata": {},
   "outputs": [],
   "source": []
  },
  {
   "cell_type": "markdown",
   "metadata": {},
   "source": [
    "# 4번 set"
   ]
  },
  {
   "cell_type": "markdown",
   "metadata": {},
   "source": [
    "### 2번 set + XDay 공통되는 96, 98 (총 269)개 삭제"
   ]
  },
  {
   "cell_type": "code",
   "execution_count": 10,
   "metadata": {},
   "outputs": [
    {
     "data": {
      "text/plain": [
       "0     133951\n",
       "1       5056\n",
       "2       1507\n",
       "3        648\n",
       "4        278\n",
       "5        123\n",
       "6         78\n",
       "7         36\n",
       "8         21\n",
       "9         19\n",
       "10         8\n",
       "11         4\n",
       "12         2\n",
       "13         4\n",
       "14         2\n",
       "15         2\n",
       "17         1\n",
       "96         5\n",
       "98       264\n",
       "Name: NumberOfTimes90DaysLate, dtype: int64"
      ]
     },
     "execution_count": 10,
     "metadata": {},
     "output_type": "execute_result"
    }
   ],
   "source": [
    "a = train_df.loc[:,'NumberOfTimes90DaysLate']\n",
    "a.value_counts().sort_index()"
   ]
  },
  {
   "cell_type": "code",
   "execution_count": 11,
   "metadata": {},
   "outputs": [
    {
     "data": {
      "text/plain": [
       "0     119362\n",
       "1      15166\n",
       "2       4337\n",
       "3       1651\n",
       "4        685\n",
       "5        314\n",
       "6        131\n",
       "7         52\n",
       "8         24\n",
       "9         11\n",
       "10         3\n",
       "11         1\n",
       "12         2\n",
       "13         1\n",
       "96         5\n",
       "98       264\n",
       "Name: NumberOfTime30-59DaysPastDueNotWorse, dtype: int64"
      ]
     },
     "execution_count": 11,
     "metadata": {},
     "output_type": "execute_result"
    }
   ],
   "source": [
    "b = train_df.loc[:,'NumberOfTime30-59DaysPastDueNotWorse']\n",
    "b.value_counts().sort_index()"
   ]
  },
  {
   "cell_type": "code",
   "execution_count": 12,
   "metadata": {},
   "outputs": [
    {
     "data": {
      "text/plain": [
       "0     134734\n",
       "1       5480\n",
       "2       1064\n",
       "3        306\n",
       "4         96\n",
       "5         31\n",
       "6         16\n",
       "7          9\n",
       "8          2\n",
       "9          1\n",
       "11         1\n",
       "96         5\n",
       "98       264\n",
       "Name: NumberOfTime60-89DaysPastDueNotWorse, dtype: int64"
      ]
     },
     "execution_count": 12,
     "metadata": {},
     "output_type": "execute_result"
    }
   ],
   "source": [
    "c = train_df.loc[:,'NumberOfTime60-89DaysPastDueNotWorse']\n",
    "c.value_counts().sort_index()"
   ]
  },
  {
   "cell_type": "code",
   "execution_count": 13,
   "metadata": {},
   "outputs": [],
   "source": [
    "train_df = train_df[(train_df['NumberOfTimes90DaysLate'] < 96) | (train_df['NumberOfTime30-59DaysPastDueNotWorse'] < 96) | (train_df['NumberOfTime60-89DaysPastDueNotWorse'] < 96)]"
   ]
  },
  {
   "cell_type": "code",
   "execution_count": null,
   "metadata": {},
   "outputs": [],
   "source": []
  },
  {
   "cell_type": "markdown",
   "metadata": {},
   "source": [
    "# 5번 set"
   ]
  },
  {
   "cell_type": "markdown",
   "metadata": {},
   "source": [
    "### 2번 set + 기존 Revolving 처리 방식 (10000이상을 대체값으로)"
   ]
  },
  {
   "cell_type": "code",
   "execution_count": 12,
   "metadata": {},
   "outputs": [
    {
     "name": "stderr",
     "output_type": "stream",
     "text": [
      "C:\\Users\\hyeon jin\\AppData\\Local\\conda\\conda\\envs\\study\\lib\\site-packages\\ipykernel_launcher.py:3: SettingWithCopyWarning: \n",
      "A value is trying to be set on a copy of a slice from a DataFrame\n",
      "\n",
      "See the caveats in the documentation: http://pandas.pydata.org/pandas-docs/stable/indexing.html#indexing-view-versus-copy\n",
      "  This is separate from the ipykernel package so we can avoid doing imports until\n"
     ]
    }
   ],
   "source": [
    "#train_df.NumberRealEstateLoansOrLines[30587] = 32\n",
    "for i in train_df[train_df['RevolvingUtilizationOfUnsecuredLines'] > 10000].index:\n",
    "    train_df['RevolvingUtilizationOfUnsecuredLines'][i] = 9684"
   ]
  },
  {
   "cell_type": "code",
   "execution_count": null,
   "metadata": {},
   "outputs": [],
   "source": []
  },
  {
   "cell_type": "markdown",
   "metadata": {},
   "source": [
    "# 6번 set"
   ]
  },
  {
   "cell_type": "markdown",
   "metadata": {},
   "source": [
    "### 2번 set +  Revolving 1000개 이상 모두 삭제"
   ]
  },
  {
   "cell_type": "code",
   "execution_count": 10,
   "metadata": {},
   "outputs": [],
   "source": [
    "train_df = train_df[(train_df['RevolvingUtilizationOfUnsecuredLines'] <= 1000)]"
   ]
  },
  {
   "cell_type": "code",
   "execution_count": 11,
   "metadata": {},
   "outputs": [
    {
     "name": "stdout",
     "output_type": "stream",
     "text": [
      "<class 'pandas.core.frame.DataFrame'>\n",
      "Int64Index: 141853 entries, 0 to 149999\n",
      "Data columns (total 12 columns):\n",
      "Unnamed: 0                              141853 non-null int64\n",
      "SeriousDlqin2yrs                        141853 non-null int64\n",
      "RevolvingUtilizationOfUnsecuredLines    141853 non-null float64\n",
      "age                                     141853 non-null int64\n",
      "NumberOfTime30-59DaysPastDueNotWorse    141853 non-null int64\n",
      "DebtRatio                               141853 non-null float64\n",
      "MonthlyIncome                           141853 non-null float64\n",
      "NumberOfOpenCreditLinesAndLoans         141853 non-null int64\n",
      "NumberOfTimes90DaysLate                 141853 non-null int64\n",
      "NumberRealEstateLoansOrLines            141853 non-null int64\n",
      "NumberOfTime60-89DaysPastDueNotWorse    141853 non-null int64\n",
      "NumberOfDependents                      141853 non-null float64\n",
      "dtypes: float64(4), int64(8)\n",
      "memory usage: 14.1 MB\n"
     ]
    }
   ],
   "source": [
    "train_df.info()"
   ]
  },
  {
   "cell_type": "code",
   "execution_count": null,
   "metadata": {},
   "outputs": [],
   "source": []
  },
  {
   "cell_type": "markdown",
   "metadata": {},
   "source": [
    "# 7번 set"
   ]
  },
  {
   "cell_type": "markdown",
   "metadata": {},
   "source": [
    "### 2번 set + Revolving 1000개 이상 대체값"
   ]
  },
  {
   "cell_type": "code",
   "execution_count": 10,
   "metadata": {},
   "outputs": [
    {
     "name": "stderr",
     "output_type": "stream",
     "text": [
      "C:\\Users\\hyeon jin\\AppData\\Local\\conda\\conda\\envs\\study\\lib\\site-packages\\ipykernel_launcher.py:3: SettingWithCopyWarning: \n",
      "A value is trying to be set on a copy of a slice from a DataFrame\n",
      "\n",
      "See the caveats in the documentation: http://pandas.pydata.org/pandas-docs/stable/indexing.html#indexing-view-versus-copy\n",
      "  This is separate from the ipykernel package so we can avoid doing imports until\n"
     ]
    }
   ],
   "source": [
    "#train_df.NumberRealEstateLoansOrLines[30587] = 32\n",
    "for i in train_df[train_df['RevolvingUtilizationOfUnsecuredLines'] > 1000].index:\n",
    "    train_df['RevolvingUtilizationOfUnsecuredLines'][i] = 999"
   ]
  },
  {
   "cell_type": "code",
   "execution_count": null,
   "metadata": {},
   "outputs": [],
   "source": []
  },
  {
   "cell_type": "markdown",
   "metadata": {},
   "source": [
    "# 8번 set"
   ]
  },
  {
   "cell_type": "markdown",
   "metadata": {},
   "source": [
    "### 2번 set + Revolving 1000개 이상 중 SeriousDlqin2yrs가 0인 것 삭제"
   ]
  },
  {
   "cell_type": "code",
   "execution_count": 10,
   "metadata": {},
   "outputs": [],
   "source": [
    "e = train_df[(train_df['RevolvingUtilizationOfUnsecuredLines'] > 1000) & (train_df['SeriousDlqin2yrs'] == 0)]"
   ]
  },
  {
   "cell_type": "code",
   "execution_count": 11,
   "metadata": {},
   "outputs": [
    {
     "data": {
      "text/plain": [
       "Int64Index([   293,   2331,   4278,   4793,   6850,   7774,   8199,   9162,\n",
       "             10460,  10695,\n",
       "            ...\n",
       "            139709, 140814, 142582, 143678, 144354, 144683, 145587, 149102,\n",
       "            149160, 149279],\n",
       "           dtype='int64', length=147)"
      ]
     },
     "execution_count": 11,
     "metadata": {},
     "output_type": "execute_result"
    }
   ],
   "source": [
    "e.index"
   ]
  },
  {
   "cell_type": "code",
   "execution_count": 12,
   "metadata": {},
   "outputs": [],
   "source": [
    "train_df = train_df.drop(train_df.index[con1.index[0:146].values])"
   ]
  },
  {
   "cell_type": "code",
   "execution_count": 13,
   "metadata": {},
   "outputs": [
    {
     "name": "stdout",
     "output_type": "stream",
     "text": [
      "<class 'pandas.core.frame.DataFrame'>\n",
      "Int64Index: 141863 entries, 0 to 149999\n",
      "Data columns (total 12 columns):\n",
      "Unnamed: 0                              141863 non-null int64\n",
      "SeriousDlqin2yrs                        141863 non-null int64\n",
      "RevolvingUtilizationOfUnsecuredLines    141863 non-null float64\n",
      "age                                     141863 non-null int64\n",
      "NumberOfTime30-59DaysPastDueNotWorse    141863 non-null int64\n",
      "DebtRatio                               141863 non-null float64\n",
      "MonthlyIncome                           141863 non-null float64\n",
      "NumberOfOpenCreditLinesAndLoans         141863 non-null int64\n",
      "NumberOfTimes90DaysLate                 141863 non-null int64\n",
      "NumberRealEstateLoansOrLines            141863 non-null int64\n",
      "NumberOfTime60-89DaysPastDueNotWorse    141863 non-null int64\n",
      "NumberOfDependents                      141863 non-null float64\n",
      "dtypes: float64(4), int64(8)\n",
      "memory usage: 14.1 MB\n"
     ]
    }
   ],
   "source": [
    "train_df.info()"
   ]
  },
  {
   "cell_type": "code",
   "execution_count": null,
   "metadata": {},
   "outputs": [],
   "source": []
  },
  {
   "cell_type": "code",
   "execution_count": null,
   "metadata": {},
   "outputs": [],
   "source": []
  },
  {
   "cell_type": "code",
   "execution_count": null,
   "metadata": {},
   "outputs": [],
   "source": []
  },
  {
   "cell_type": "code",
   "execution_count": null,
   "metadata": {},
   "outputs": [],
   "source": []
  },
  {
   "cell_type": "code",
   "execution_count": null,
   "metadata": {},
   "outputs": [],
   "source": []
  },
  {
   "cell_type": "code",
   "execution_count": null,
   "metadata": {},
   "outputs": [],
   "source": []
  },
  {
   "cell_type": "code",
   "execution_count": null,
   "metadata": {},
   "outputs": [],
   "source": []
  },
  {
   "cell_type": "code",
   "execution_count": null,
   "metadata": {},
   "outputs": [],
   "source": []
  },
  {
   "cell_type": "code",
   "execution_count": 14,
   "metadata": {},
   "outputs": [
    {
     "name": "stdout",
     "output_type": "stream",
     "text": [
      "(141863, 10)\n",
      "(141863,)\n"
     ]
    }
   ],
   "source": [
    "train_y = train_df['SeriousDlqin2yrs']\n",
    "train_X = train_df.drop(['Unnamed: 0', 'SeriousDlqin2yrs'], axis=1)\n",
    "print(train_X.shape)\n",
    "print(train_y.shape)"
   ]
  },
  {
   "cell_type": "code",
   "execution_count": 15,
   "metadata": {},
   "outputs": [],
   "source": [
    "from sklearn.preprocessing import StandardScaler\n",
    "\n",
    "scaler = StandardScaler()\n",
    "train_X = scaler.fit_transform(train_X)"
   ]
  },
  {
   "cell_type": "code",
   "execution_count": 16,
   "metadata": {},
   "outputs": [],
   "source": [
    "\n",
    "train_X = np.array(train_X)\n",
    "train_y = np.array(train_y)"
   ]
  },
  {
   "cell_type": "code",
   "execution_count": 17,
   "metadata": {},
   "outputs": [],
   "source": [
    "\n",
    "DATA_PATH = 'C:/Users/hyeon jin/Downloads/asiasummer3/kaggleCreditAnalysis/result'\n",
    "\n",
    "TRAIN_INPUT_DATA = 'train_data_X_2_8.npy'\n",
    "TRAIN_LABEL_DATA = 'train_data_y_2_8.npy'\n",
    "\n",
    "np.save(open(DATA_PATH + TRAIN_INPUT_DATA, 'wb'), train_X)\n",
    "np.save(open(DATA_PATH + TRAIN_LABEL_DATA, 'wb'), train_y)"
   ]
  },
  {
   "cell_type": "code",
   "execution_count": null,
   "metadata": {},
   "outputs": [],
   "source": []
  },
  {
   "cell_type": "code",
   "execution_count": null,
   "metadata": {},
   "outputs": [],
   "source": []
  },
  {
   "cell_type": "code",
   "execution_count": null,
   "metadata": {},
   "outputs": [],
   "source": []
  },
  {
   "cell_type": "code",
   "execution_count": null,
   "metadata": {},
   "outputs": [],
   "source": []
  },
  {
   "cell_type": "code",
   "execution_count": null,
   "metadata": {},
   "outputs": [],
   "source": []
  },
  {
   "cell_type": "code",
   "execution_count": 22,
   "metadata": {},
   "outputs": [],
   "source": [
    "train_df0 = train_df[train_df.SeriousDlqin2yrs!=0]"
   ]
  },
  {
   "cell_type": "code",
   "execution_count": 23,
   "metadata": {},
   "outputs": [],
   "source": [
    "mask = train_df0['SeriousDlqin2yrs'].notnull()#notnull()는 관측치가 결측`b`b이면 False, 결측이 아니면 True를 반환"
   ]
  },
  {
   "cell_type": "code",
   "execution_count": 26,
   "metadata": {},
   "outputs": [
    {
     "name": "stderr",
     "output_type": "stream",
     "text": [
      "C:\\Users\\hyeon jin\\AppData\\Local\\conda\\conda\\envs\\study\\lib\\site-packages\\ipykernel_launcher.py:5: SettingWithCopyWarning: \n",
      "A value is trying to be set on a copy of a slice from a DataFrame.\n",
      "Try using .loc[row_indexer,col_indexer] = value instead\n",
      "\n",
      "See the caveats in the documentation: http://pandas.pydata.org/pandas-docs/stable/indexing.html#indexing-view-versus-copy\n",
      "  \"\"\"\n"
     ]
    },
    {
     "data": {
      "text/html": [
       "<div>\n",
       "<style scoped>\n",
       "    .dataframe tbody tr th:only-of-type {\n",
       "        vertical-align: middle;\n",
       "    }\n",
       "\n",
       "    .dataframe tbody tr th {\n",
       "        vertical-align: top;\n",
       "    }\n",
       "\n",
       "    .dataframe thead th {\n",
       "        text-align: right;\n",
       "    }\n",
       "</style>\n",
       "<table border=\"1\" class=\"dataframe\">\n",
       "  <thead>\n",
       "    <tr style=\"text-align: right;\">\n",
       "      <th></th>\n",
       "      <th>SeriousDlqin2yrs</th>\n",
       "      <th>SeriousDlqin2yrs</th>\n",
       "    </tr>\n",
       "    <tr>\n",
       "      <th>dr_grouped</th>\n",
       "      <th></th>\n",
       "      <th></th>\n",
       "    </tr>\n",
       "  </thead>\n",
       "  <tbody>\n",
       "    <tr>\n",
       "      <th>0-0.1</th>\n",
       "      <td>1445</td>\n",
       "      <td>1</td>\n",
       "    </tr>\n",
       "    <tr>\n",
       "      <th>0.1-0.2</th>\n",
       "      <td>1130</td>\n",
       "      <td>1</td>\n",
       "    </tr>\n",
       "    <tr>\n",
       "      <th>0.2-0.3</th>\n",
       "      <td>1090</td>\n",
       "      <td>1</td>\n",
       "    </tr>\n",
       "    <tr>\n",
       "      <th>0.3-0.4</th>\n",
       "      <td>1067</td>\n",
       "      <td>1</td>\n",
       "    </tr>\n",
       "    <tr>\n",
       "      <th>0.4-0.5</th>\n",
       "      <td>914</td>\n",
       "      <td>1</td>\n",
       "    </tr>\n",
       "    <tr>\n",
       "      <th>0.5-0.6</th>\n",
       "      <td>742</td>\n",
       "      <td>1</td>\n",
       "    </tr>\n",
       "    <tr>\n",
       "      <th>0.6-0.7</th>\n",
       "      <td>519</td>\n",
       "      <td>1</td>\n",
       "    </tr>\n",
       "    <tr>\n",
       "      <th>0.7-0.8</th>\n",
       "      <td>374</td>\n",
       "      <td>1</td>\n",
       "    </tr>\n",
       "    <tr>\n",
       "      <th>0.8-0.9</th>\n",
       "      <td>246</td>\n",
       "      <td>1</td>\n",
       "    </tr>\n",
       "    <tr>\n",
       "      <th>0.9-1.0</th>\n",
       "      <td>196</td>\n",
       "      <td>1</td>\n",
       "    </tr>\n",
       "    <tr>\n",
       "      <th>1.0-2.0</th>\n",
       "      <td>540</td>\n",
       "      <td>1</td>\n",
       "    </tr>\n",
       "    <tr>\n",
       "      <th>2.0-5.0</th>\n",
       "      <td>108</td>\n",
       "      <td>1</td>\n",
       "    </tr>\n",
       "    <tr>\n",
       "      <th>5.0-10.0</th>\n",
       "      <td>30</td>\n",
       "      <td>1</td>\n",
       "    </tr>\n",
       "    <tr>\n",
       "      <th>10.0-20.0</th>\n",
       "      <td>42</td>\n",
       "      <td>1</td>\n",
       "    </tr>\n",
       "    <tr>\n",
       "      <th>20.0-50.0</th>\n",
       "      <td>87</td>\n",
       "      <td>1</td>\n",
       "    </tr>\n",
       "    <tr>\n",
       "      <th>50.0-100.0</th>\n",
       "      <td>71</td>\n",
       "      <td>1</td>\n",
       "    </tr>\n",
       "    <tr>\n",
       "      <th>100+</th>\n",
       "      <td>558</td>\n",
       "      <td>1</td>\n",
       "    </tr>\n",
       "  </tbody>\n",
       "</table>\n",
       "</div>"
      ],
      "text/plain": [
       "            SeriousDlqin2yrs  SeriousDlqin2yrs\n",
       "dr_grouped                                    \n",
       "0-0.1                   1445                 1\n",
       "0.1-0.2                 1130                 1\n",
       "0.2-0.3                 1090                 1\n",
       "0.3-0.4                 1067                 1\n",
       "0.4-0.5                  914                 1\n",
       "0.5-0.6                  742                 1\n",
       "0.6-0.7                  519                 1\n",
       "0.7-0.8                  374                 1\n",
       "0.8-0.9                  246                 1\n",
       "0.9-1.0                  196                 1\n",
       "1.0-2.0                  540                 1\n",
       "2.0-5.0                  108                 1\n",
       "5.0-10.0                  30                 1\n",
       "10.0-20.0                 42                 1\n",
       "20.0-50.0                 87                 1\n",
       "50.0-100.0                71                 1\n",
       "100+                     558                 1"
      ]
     },
     "execution_count": 26,
     "metadata": {},
     "output_type": "execute_result"
    }
   ],
   "source": [
    "bins2 = [0, 0.1, 0.2, 0.3, 0.4, 0.5, 0.6, 0.7, 0.8, 0.9, 1.0, 2.0, 5.0, 10.0, 20.0, 50.0, 100,\n",
    "       train_df0['DebtRatio'].max()] #월별 부채지급\n",
    "labels2 = ['0-0.1', '0.1-0.2', '0.2-0.3', '0.3-0.4', '0.4-0.5', '0.5-0.6', '0.6-0.7', '0.7-0.8', '0.8-0.9'\n",
    "           , '0.9-1.0', '1.0-2.0', '2.0-5.0','5.0-10.0','10.0-20.0','20.0-50.0','50.0-100.0','100+']\n",
    "train_df0['dr_grouped'] = pd.cut(train_df0['DebtRatio'], bins2, right=0,labels=labels2)\n",
    "gb2 = train_df0[mask].groupby('dr_grouped')['SeriousDlqin2yrs']\n",
    "pd.concat([gb2.count(), gb2.mean()], axis=1)"
   ]
  },
  {
   "cell_type": "code",
   "execution_count": 28,
   "metadata": {},
   "outputs": [
    {
     "data": {
      "text/plain": [
       "<matplotlib.axes._subplots.AxesSubplot at 0xcd1dcbf550>"
      ]
     },
     "execution_count": 28,
     "metadata": {},
     "output_type": "execute_result"
    },
    {
     "data": {
      "image/png": "[encoded data removed]",
      "text/plain": [
       "<Figure size 432x288 with 1 Axes>"
      ]
     },
     "metadata": {
      "needs_background": "light"
     },
     "output_type": "display_data"
    }
   ],
   "source": [
    "sns.countplot(data=train_df0, x='dr_grouped', hue='SeriousDlqin2yrs')"
   ]
  },
  {
   "cell_type": "code",
   "execution_count": null,
   "metadata": {},
   "outputs": [],
   "source": []
  },
  {
   "cell_type": "code",
   "execution_count": 183,
   "metadata": {},
   "outputs": [
    {
     "data": {
      "text/plain": [
       "Int64Index([  9162,  10460,  10695,  11131,  13669,  14564,  16800,  16956,\n",
       "             17457,  18502,\n",
       "            ...\n",
       "            140814, 142582, 143678, 143754, 144354, 144683, 145587, 149102,\n",
       "            149160, 149279],\n",
       "           dtype='int64', length=155)"
      ]
     },
     "execution_count": 183,
     "metadata": {},
     "output_type": "execute_result"
    }
   ],
   "source": [
    "d = train_df.loc[:,'RevolvingUtilizationOfUnsecuredLines']\n",
    "d.value_counts().sort_index()\n",
    "d2 = train_df[(train_df['RevolvingUtilizationOfUnsecuredLines'] <=1000)]\n",
    "d2.loc[:,'RevolvingUtilizationOfUnsecuredLines'].value_counts().sort_index()\n",
    "#d2\n",
    "#d.value_counts().sort_index()\n",
    "e = train_df[(train_df['RevolvingUtilizationOfUnsecuredLines'] > 1000) & (train_df['SeriousDlqin2yrs'] == 0)]\n",
    "#e = train_df.loc[:,'RevolvingUtilizationOfUnsecuredLines']\n",
    "e.loc[:, 'RevolvingUtilizationOfUnsecuredLines'].value_counts().sort_index()\n",
    "e.index"
   ]
  },
  {
   "cell_type": "code",
   "execution_count": null,
   "metadata": {},
   "outputs": [],
   "source": []
  }
 ],
 "metadata": {
  "kernelspec": {
   "display_name": "Python 3",
   "language": "python",
   "name": "python3"
  },
  "language_info": {
   "codemirror_mode": {
    "name": "ipython",
    "version": 3
   },
   "file_extension": ".py",
   "mimetype": "text/x-python",
   "name": "python",
   "nbconvert_exporter": "python",
   "pygments_lexer": "ipython3",
   "version": "3.6.8"
  }
 },
 "nbformat": 4,
 "nbformat_minor": 2
}
