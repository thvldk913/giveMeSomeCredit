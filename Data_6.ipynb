{
 "cells": [
  {
   "cell_type": "code",
   "execution_count": 12,
   "metadata": {},
   "outputs": [],
   "source": [
    "import pandas as pd\n",
    "import numpy as np\n",
    "import seaborn as sns\n",
    "import matplotlib.pyplot as plt"
   ]
  },
  {
   "cell_type": "code",
   "execution_count": 13,
   "metadata": {},
   "outputs": [
    {
     "name": "stdout",
     "output_type": "stream",
     "text": [
      "<class 'pandas.core.frame.DataFrame'>\n",
      "RangeIndex: 150000 entries, 0 to 149999\n",
      "Data columns (total 12 columns):\n",
      "Unnamed: 0                              150000 non-null int64\n",
      "SeriousDlqin2yrs                        150000 non-null int64\n",
      "RevolvingUtilizationOfUnsecuredLines    150000 non-null float64\n",
      "age                                     150000 non-null int64\n",
      "NumberOfTime30-59DaysPastDueNotWorse    150000 non-null int64\n",
      "DebtRatio                               150000 non-null float64\n",
      "MonthlyIncome                           120269 non-null float64\n",
      "NumberOfOpenCreditLinesAndLoans         150000 non-null int64\n",
      "NumberOfTimes90DaysLate                 150000 non-null int64\n",
      "NumberRealEstateLoansOrLines            150000 non-null int64\n",
      "NumberOfTime60-89DaysPastDueNotWorse    150000 non-null int64\n",
      "NumberOfDependents                      146076 non-null float64\n",
      "dtypes: float64(4), int64(8)\n",
      "memory usage: 13.7 MB\n"
     ]
    }
   ],
   "source": [
    "train_df = pd.read_csv(\"C:/python/fintech_credit/cs-training.csv\")\n",
    "train_df.info()"
   ]
  },
  {
   "cell_type": "code",
   "execution_count": 14,
   "metadata": {},
   "outputs": [],
   "source": [
    "train_df['NumberOfDependents'].fillna(train_df['NumberOfDependents'].median(), inplace=True)"
   ]
  },
  {
   "cell_type": "code",
   "execution_count": 15,
   "metadata": {},
   "outputs": [
    {
     "name": "stdout",
     "output_type": "stream",
     "text": [
      "<class 'pandas.core.frame.DataFrame'>\n",
      "RangeIndex: 150000 entries, 0 to 149999\n",
      "Data columns (total 12 columns):\n",
      "Unnamed: 0                              150000 non-null int64\n",
      "SeriousDlqin2yrs                        150000 non-null int64\n",
      "RevolvingUtilizationOfUnsecuredLines    150000 non-null float64\n",
      "age                                     150000 non-null int64\n",
      "NumberOfTime30-59DaysPastDueNotWorse    150000 non-null int64\n",
      "DebtRatio                               150000 non-null float64\n",
      "MonthlyIncome                           120269 non-null float64\n",
      "NumberOfOpenCreditLinesAndLoans         150000 non-null int64\n",
      "NumberOfTimes90DaysLate                 150000 non-null int64\n",
      "NumberRealEstateLoansOrLines            150000 non-null int64\n",
      "NumberOfTime60-89DaysPastDueNotWorse    150000 non-null int64\n",
      "NumberOfDependents                      150000 non-null float64\n",
      "dtypes: float64(4), int64(8)\n",
      "memory usage: 13.7 MB\n"
     ]
    }
   ],
   "source": [
    "train_df.info()"
   ]
  },
  {
   "cell_type": "code",
   "execution_count": 16,
   "metadata": {},
   "outputs": [],
   "source": [
    "train_df = train_df.dropna()"
   ]
  },
  {
   "cell_type": "code",
   "execution_count": 18,
   "metadata": {},
   "outputs": [
    {
     "name": "stdout",
     "output_type": "stream",
     "text": [
      "<class 'pandas.core.frame.DataFrame'>\n",
      "Int64Index: 120269 entries, 0 to 149999\n",
      "Data columns (total 12 columns):\n",
      "Unnamed: 0                              120269 non-null int64\n",
      "SeriousDlqin2yrs                        120269 non-null int64\n",
      "RevolvingUtilizationOfUnsecuredLines    120269 non-null float64\n",
      "age                                     120269 non-null int64\n",
      "NumberOfTime30-59DaysPastDueNotWorse    120269 non-null int64\n",
      "DebtRatio                               120269 non-null float64\n",
      "MonthlyIncome                           120269 non-null float64\n",
      "NumberOfOpenCreditLinesAndLoans         120269 non-null int64\n",
      "NumberOfTimes90DaysLate                 120269 non-null int64\n",
      "NumberRealEstateLoansOrLines            120269 non-null int64\n",
      "NumberOfTime60-89DaysPastDueNotWorse    120269 non-null int64\n",
      "NumberOfDependents                      120269 non-null float64\n",
      "dtypes: float64(4), int64(8)\n",
      "memory usage: 11.9 MB\n"
     ]
    }
   ],
   "source": [
    "train_df.info()"
   ]
  },
  {
   "cell_type": "code",
   "execution_count": 19,
   "metadata": {},
   "outputs": [
    {
     "name": "stdout",
     "output_type": "stream",
     "text": [
      "<class 'pandas.core.frame.DataFrame'>\n",
      "Int64Index: 117917 entries, 0 to 149999\n",
      "Data columns (total 12 columns):\n",
      "Unnamed: 0                              117917 non-null int64\n",
      "SeriousDlqin2yrs                        117917 non-null int64\n",
      "RevolvingUtilizationOfUnsecuredLines    117917 non-null float64\n",
      "age                                     117917 non-null int64\n",
      "NumberOfTime30-59DaysPastDueNotWorse    117917 non-null int64\n",
      "DebtRatio                               117917 non-null float64\n",
      "MonthlyIncome                           117917 non-null float64\n",
      "NumberOfOpenCreditLinesAndLoans         117917 non-null int64\n",
      "NumberOfTimes90DaysLate                 117917 non-null int64\n",
      "NumberRealEstateLoansOrLines            117917 non-null int64\n",
      "NumberOfTime60-89DaysPastDueNotWorse    117917 non-null int64\n",
      "NumberOfDependents                      117917 non-null float64\n",
      "dtypes: float64(4), int64(8)\n",
      "memory usage: 11.7 MB\n"
     ]
    }
   ],
   "source": [
    "train_df = train_df[train_df['DebtRatio'] <= 5.00]\n",
    "train_df.info()"
   ]
  },
  {
   "cell_type": "code",
   "execution_count": 20,
   "metadata": {},
   "outputs": [
    {
     "name": "stderr",
     "output_type": "stream",
     "text": [
      "C:\\Anaconda_\\lib\\site-packages\\ipykernel_launcher.py:3: SettingWithCopyWarning: \n",
      "A value is trying to be set on a copy of a slice from a DataFrame\n",
      "\n",
      "See the caveats in the documentation: http://pandas.pydata.org/pandas-docs/stable/indexing.html#indexing-view-versus-copy\n",
      "  This is separate from the ipykernel package so we can avoid doing imports until\n"
     ]
    }
   ],
   "source": [
    "train_df.NumberRealEstateLoansOrLines[30587] = 32\n",
    "for i in train_df[train_df['RevolvingUtilizationOfUnsecuredLines'] > 10000].index:\n",
    "    train_df['RevolvingUtilizationOfUnsecuredLines'][i] = 9684"
   ]
  },
  {
   "cell_type": "code",
   "execution_count": 21,
   "metadata": {},
   "outputs": [],
   "source": [
    "train_df['PastDue'] = train_df['NumberOfTime30-59DaysPastDueNotWorse'] + train_df['NumberOfTime60-89DaysPastDueNotWorse'] + train_df['NumberOfTimes90DaysLate']"
   ]
  },
  {
   "cell_type": "code",
   "execution_count": 22,
   "metadata": {},
   "outputs": [
    {
     "data": {
      "text/plain": [
       "0     111280\n",
       "1       4252\n",
       "2       1216\n",
       "3        540\n",
       "4        238\n",
       "98       144\n",
       "5        102\n",
       "6         60\n",
       "7         29\n",
       "8         16\n",
       "9         14\n",
       "10         8\n",
       "96         4\n",
       "13         4\n",
       "11         3\n",
       "12         2\n",
       "14         2\n",
       "15         2\n",
       "17         1\n",
       "Name: NumberOfTimes90DaysLate, dtype: int64"
      ]
     },
     "execution_count": 22,
     "metadata": {},
     "output_type": "execute_result"
    }
   ],
   "source": [
    "train_df['NumberOfTimes90DaysLate'].value_counts()"
   ]
  },
  {
   "cell_type": "code",
   "execution_count": 23,
   "metadata": {},
   "outputs": [
    {
     "data": {
      "text/plain": [
       "0      92864\n",
       "1      14226\n",
       "2       4966\n",
       "3       2386\n",
       "4       1309\n",
       "5        794\n",
       "6        490\n",
       "7        303\n",
       "8        163\n",
       "294      144\n",
       "9        103\n",
       "10        62\n",
       "11        41\n",
       "12        17\n",
       "13        17\n",
       "14        11\n",
       "15         7\n",
       "288        4\n",
       "16         4\n",
       "17         4\n",
       "18         1\n",
       "19         1\n",
       "Name: PastDue, dtype: int64"
      ]
     },
     "execution_count": 23,
     "metadata": {},
     "output_type": "execute_result"
    }
   ],
   "source": [
    "train_df['PastDue'].value_counts()"
   ]
  },
  {
   "cell_type": "code",
   "execution_count": 24,
   "metadata": {},
   "outputs": [],
   "source": [
    "train_df = train_df.drop([\"NumberOfTime30-59DaysPastDueNotWorse\",\n",
    "               \"NumberOfTime60-89DaysPastDueNotWorse\",\n",
    "               \"NumberOfTimes90DaysLate\"], axis=1)"
   ]
  },
  {
   "cell_type": "code",
   "execution_count": 25,
   "metadata": {},
   "outputs": [
    {
     "name": "stdout",
     "output_type": "stream",
     "text": [
      "<class 'pandas.core.frame.DataFrame'>\n",
      "Int64Index: 117917 entries, 0 to 149999\n",
      "Data columns (total 10 columns):\n",
      "Unnamed: 0                              117917 non-null int64\n",
      "SeriousDlqin2yrs                        117917 non-null int64\n",
      "RevolvingUtilizationOfUnsecuredLines    117917 non-null float64\n",
      "age                                     117917 non-null int64\n",
      "DebtRatio                               117917 non-null float64\n",
      "MonthlyIncome                           117917 non-null float64\n",
      "NumberOfOpenCreditLinesAndLoans         117917 non-null int64\n",
      "NumberRealEstateLoansOrLines            117917 non-null int64\n",
      "NumberOfDependents                      117917 non-null float64\n",
      "PastDue                                 117917 non-null int64\n",
      "dtypes: float64(4), int64(6)\n",
      "memory usage: 14.9 MB\n"
     ]
    }
   ],
   "source": [
    "train_df.info()"
   ]
  },
  {
   "cell_type": "code",
   "execution_count": 26,
   "metadata": {},
   "outputs": [
    {
     "name": "stdout",
     "output_type": "stream",
     "text": [
      "(117917, 8)\n",
      "(117917,)\n"
     ]
    }
   ],
   "source": [
    "train_y = train_df['SeriousDlqin2yrs']\n",
    "train_X = train_df.drop(['Unnamed: 0', 'SeriousDlqin2yrs'], axis=1)\n",
    "print(train_X.shape)\n",
    "print(train_y.shape)"
   ]
  },
  {
   "cell_type": "code",
   "execution_count": 27,
   "metadata": {},
   "outputs": [],
   "source": [
    "from sklearn.preprocessing import StandardScaler\n",
    "\n",
    "scaler = StandardScaler()\n",
    "train_X = scaler.fit_transform(train_X)"
   ]
  },
  {
   "cell_type": "code",
   "execution_count": 28,
   "metadata": {},
   "outputs": [],
   "source": [
    "train_X = np.array(train_X)\n",
    "train_y = np.array(train_y)"
   ]
  },
  {
   "cell_type": "code",
   "execution_count": 29,
   "metadata": {},
   "outputs": [],
   "source": [
    "DATA_PATH = 'C:/Users/이혁주/Desktop/FinTech/give_me_some_credit/'\n",
    "\n",
    "TRAIN_INPUT_DATA = 'train_data_X_6.npy'\n",
    "TRAIN_LABEL_DATA = 'train_data_y_6.npy'\n",
    "\n",
    "np.save(open(DATA_PATH + TRAIN_INPUT_DATA, 'wb'), train_X)\n",
    "np.save(open(DATA_PATH + TRAIN_LABEL_DATA, 'wb'), train_y)"
   ]
  },
  {
   "cell_type": "code",
   "execution_count": null,
   "metadata": {},
   "outputs": [],
   "source": []
  }
 ],
 "metadata": {
  "kernelspec": {
   "display_name": "Python 3",
   "language": "python",
   "name": "python3"
  },
  "language_info": {
   "codemirror_mode": {
    "name": "ipython",
    "version": 3
   },
   "file_extension": ".py",
   "mimetype": "text/x-python",
   "name": "python",
   "nbconvert_exporter": "python",
   "pygments_lexer": "ipython3",
   "version": "3.6.8"
  }
 },
 "nbformat": 4,
 "nbformat_minor": 4
}
