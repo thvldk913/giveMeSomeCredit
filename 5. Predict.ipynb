{
 "cells": [
  {
   "cell_type": "markdown",
   "metadata": {},
   "source": [
    "# Test set\n",
    "\n",
    "##### Test set에 적용"
   ]
  },
  {
   "cell_type": "code",
   "execution_count": 8,
   "metadata": {},
   "outputs": [],
   "source": [
    "import pandas as pd\n",
    "import numpy as np\n",
    "import seaborn as sns"
   ]
  },
  {
   "cell_type": "markdown",
   "metadata": {},
   "source": [
    "### 1. Data load"
   ]
  },
  {
   "cell_type": "code",
   "execution_count": 6,
   "metadata": {},
   "outputs": [
    {
     "name": "stdout",
     "output_type": "stream",
     "text": [
      "(150000, 10)\n",
      "(150000,)\n"
     ]
    }
   ],
   "source": [
    "# DATA_IN_PATH = 'C:/Users/이혁주/Desktop/FinTech/give_me_some_credit/datasets/'\n",
    "# INPUT_TRAIN_DATA_FILE = 'train_data_X_2.npy'\n",
    "# LABEL_TRAIN_DATA_FILE = 'train_data_y_2.npy'\n",
    "\n",
    "# train_input = np.load(open(DATA_IN_PATH + INPUT_TRAIN_DATA_FILE, 'rb'))\n",
    "# train_label = np.load(open(DATA_IN_PATH + LABEL_TRAIN_DATA_FILE, 'rb'))\n",
    "# print(train_input.shape)\n",
    "# print(train_label.shape)"
   ]
  },
  {
   "cell_type": "code",
   "execution_count": 9,
   "metadata": {},
   "outputs": [
    {
     "name": "stderr",
     "output_type": "stream",
     "text": [
      "C:\\Anaconda_\\lib\\site-packages\\ipykernel_launcher.py:4: SettingWithCopyWarning: \n",
      "A value is trying to be set on a copy of a slice from a DataFrame\n",
      "\n",
      "See the caveats in the documentation: http://pandas.pydata.org/pandas-docs/stable/indexing.html#indexing-view-versus-copy\n",
      "  after removing the cwd from sys.path.\n",
      "C:\\Anaconda_\\lib\\site-packages\\ipykernel_launcher.py:6: SettingWithCopyWarning: \n",
      "A value is trying to be set on a copy of a slice from a DataFrame\n",
      "\n",
      "See the caveats in the documentation: http://pandas.pydata.org/pandas-docs/stable/indexing.html#indexing-view-versus-copy\n",
      "  \n"
     ]
    },
    {
     "name": "stdout",
     "output_type": "stream",
     "text": [
      "(150000, 10)\n",
      "(150000,)\n"
     ]
    }
   ],
   "source": [
    "train_df = pd.read_csv(\"C:/python/fintech_credit/cs-training.csv\")\n",
    "train_df['NumberOfDependents'].fillna(train_df['NumberOfDependents'].median(), inplace=True)\n",
    "train_df['MonthlyIncome'].fillna(train_df['MonthlyIncome'].median(), inplace=True)\n",
    "train_df.NumberRealEstateLoansOrLines[30587] = 32\n",
    "for i in train_df[train_df['RevolvingUtilizationOfUnsecuredLines'] > 10000].index:\n",
    "    train_df['RevolvingUtilizationOfUnsecuredLines'][i] = 9684\n",
    "train_y = train_df['SeriousDlqin2yrs']\n",
    "train_X = train_df.drop(['Unnamed: 0', 'SeriousDlqin2yrs'], axis=1)\n",
    "print(train_X.shape)\n",
    "print(train_y.shape)"
   ]
  },
  {
   "cell_type": "code",
   "execution_count": 10,
   "metadata": {},
   "outputs": [],
   "source": [
    "from sklearn.preprocessing import StandardScaler\n",
    "\n",
    "scaler = StandardScaler()\n",
    "train_X = scaler.fit_transform(train_X)"
   ]
  },
  {
   "cell_type": "code",
   "execution_count": 11,
   "metadata": {},
   "outputs": [],
   "source": [
    "train_X = np.array(train_X)\n",
    "train_y = np.array(train_y)"
   ]
  },
  {
   "cell_type": "code",
   "execution_count": 12,
   "metadata": {},
   "outputs": [],
   "source": [
    "from sklearn.ensemble import GradientBoostingClassifier"
   ]
  },
  {
   "cell_type": "code",
   "execution_count": 14,
   "metadata": {},
   "outputs": [
    {
     "data": {
      "text/plain": [
       "GradientBoostingClassifier(criterion='friedman_mse', init=None,\n",
       "                           learning_rate=0.1, loss='deviance', max_depth=3,\n",
       "                           max_features=None, max_leaf_nodes=None,\n",
       "                           min_impurity_decrease=0.0, min_impurity_split=None,\n",
       "                           min_samples_leaf=1, min_samples_split=2,\n",
       "                           min_weight_fraction_leaf=0.0, n_estimators=100,\n",
       "                           n_iter_no_change=None, presort='auto',\n",
       "                           random_state=42, subsample=1.0, tol=0.0001,\n",
       "                           validation_fraction=0.1, verbose=0,\n",
       "                           warm_start=False)"
      ]
     },
     "execution_count": 14,
     "metadata": {},
     "output_type": "execute_result"
    }
   ],
   "source": [
    "GB = GradientBoostingClassifier(random_state=42)\n",
    "GB.fit(train_X, train_y)"
   ]
  },
  {
   "cell_type": "markdown",
   "metadata": {},
   "source": [
    "### 2. Test set processing & predict"
   ]
  },
  {
   "cell_type": "code",
   "execution_count": 15,
   "metadata": {},
   "outputs": [],
   "source": [
    "test_df = pd.read_csv(\"C:/python/fintech_credit/cs-test.csv\")\n",
    "test_df = test_df.drop(['Unnamed: 0', 'SeriousDlqin2yrs'], axis=1)\n",
    "test_df['NumberOfDependents'].fillna(train_df['NumberOfDependents'].median(), inplace=True)\n",
    "test_df['MonthlyIncome'].fillna(train_df['MonthlyIncome'].median(), inplace=True)"
   ]
  },
  {
   "cell_type": "code",
   "execution_count": 16,
   "metadata": {},
   "outputs": [
    {
     "name": "stdout",
     "output_type": "stream",
     "text": [
      "<class 'pandas.core.frame.DataFrame'>\n",
      "RangeIndex: 101503 entries, 0 to 101502\n",
      "Data columns (total 10 columns):\n",
      "RevolvingUtilizationOfUnsecuredLines    101503 non-null float64\n",
      "age                                     101503 non-null int64\n",
      "NumberOfTime30-59DaysPastDueNotWorse    101503 non-null int64\n",
      "DebtRatio                               101503 non-null float64\n",
      "MonthlyIncome                           101503 non-null float64\n",
      "NumberOfOpenCreditLinesAndLoans         101503 non-null int64\n",
      "NumberOfTimes90DaysLate                 101503 non-null int64\n",
      "NumberRealEstateLoansOrLines            101503 non-null int64\n",
      "NumberOfTime60-89DaysPastDueNotWorse    101503 non-null int64\n",
      "NumberOfDependents                      101503 non-null float64\n",
      "dtypes: float64(4), int64(6)\n",
      "memory usage: 7.7 MB\n"
     ]
    }
   ],
   "source": [
    "test_df.info()"
   ]
  },
  {
   "cell_type": "code",
   "execution_count": 17,
   "metadata": {},
   "outputs": [],
   "source": [
    "test_df = scaler.transform(test_df)"
   ]
  },
  {
   "cell_type": "code",
   "execution_count": 18,
   "metadata": {},
   "outputs": [
    {
     "data": {
      "text/plain": [
       "(101503, 10)"
      ]
     },
     "execution_count": 18,
     "metadata": {},
     "output_type": "execute_result"
    }
   ],
   "source": [
    "test_df.shape"
   ]
  },
  {
   "cell_type": "code",
   "execution_count": 19,
   "metadata": {},
   "outputs": [
    {
     "data": {
      "text/plain": [
       "(101503,)"
      ]
     },
     "execution_count": 19,
     "metadata": {},
     "output_type": "execute_result"
    }
   ],
   "source": [
    "prediction = GB.predict_proba(test_df)\n",
    "probability = prediction[:, 1]\n",
    "probability.shape"
   ]
  },
  {
   "cell_type": "code",
   "execution_count": 20,
   "metadata": {},
   "outputs": [],
   "source": [
    "test_df = pd.read_csv(\"C:/python/fintech_credit/cs-test.csv\")\n",
    "test_X = test_df['Unnamed: 0']\n",
    "submit = pd.DataFrame({'ID': test_X, 'Probability': probability})\n",
    "submit.to_csv(\"C:/python/fintech_credit/submit.csv\", index=False)"
   ]
  }
 ],
 "metadata": {
  "kernelspec": {
   "display_name": "Python 3",
   "language": "python",
   "name": "python3"
  },
  "language_info": {
   "codemirror_mode": {
    "name": "ipython",
    "version": 3
   },
   "file_extension": ".py",
   "mimetype": "text/x-python",
   "name": "python",
   "nbconvert_exporter": "python",
   "pygments_lexer": "ipython3",
   "version": "3.6.8"
  }
 },
 "nbformat": 4,
 "nbformat_minor": 4
}
