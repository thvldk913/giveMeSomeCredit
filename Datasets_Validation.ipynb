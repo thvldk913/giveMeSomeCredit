{
 "cells": [
  {
   "cell_type": "markdown",
   "metadata": {},
   "source": [
    "#### np.load data 1,2,3,4,5,6\n",
    "#### GradientBoosting - KfoldStratified? - 스코어 보고 최종 결정 - test 셋에 적용\n",
    "#### Model 2는 어떻게?? 해 말어"
   ]
  },
  {
   "cell_type": "code",
   "execution_count": 2,
   "metadata": {},
   "outputs": [],
   "source": [
    "import pandas as pd\n",
    "import numpy as np\n",
    "import seaborn as sns"
   ]
  },
  {
   "cell_type": "markdown",
   "metadata": {},
   "source": [
    "## 1. Validation - Data_1"
   ]
  },
  {
   "cell_type": "code",
   "execution_count": 19,
   "metadata": {},
   "outputs": [
    {
     "name": "stdout",
     "output_type": "stream",
     "text": [
      "1\n",
      "2\n",
      "3\n",
      "4\n",
      "5\n",
      "6\n"
     ]
    }
   ],
   "source": [
    "for i in range(1, 7):\n",
    "    print(i)"
   ]
  },
  {
   "cell_type": "code",
   "execution_count": 26,
   "metadata": {},
   "outputs": [],
   "source": [
    "DATA_IN_PATH = 'C:/Users/이혁주/Desktop/FinTech/give_me_some_credit/datasets/'\n",
    "\n",
    "DATASETS_X = []\n",
    "DATASETS_y = []\n",
    "for i in range(1, 7):\n",
    "    INPUT_TRAIN_DATA_FILE = 'train_data_X_' + str(i) + '.npy'\n",
    "    LABEL_TRAIN_DATA_FILE = 'train_data_y_' + str(i) + '.npy'\n",
    "    \n",
    "    train_input = np.load(open(DATA_IN_PATH + INPUT_TRAIN_DATA_FILE, 'rb'))\n",
    "    train_label = np.load(open(DATA_IN_PATH + LABEL_TRAIN_DATA_FILE, 'rb'))\n",
    "    \n",
    "    DATASETS_X.append(train_input)\n",
    "    DATASETS_y.append(train_label)"
   ]
  },
  {
   "cell_type": "code",
   "execution_count": 51,
   "metadata": {},
   "outputs": [
    {
     "name": "stdout",
     "output_type": "stream",
     "text": [
      "(117917, 8)\n",
      "(117917,)\n"
     ]
    }
   ],
   "source": [
    "print(DATASETS_X[5].shape)\n",
    "print(DATASETS_y[5].shape)"
   ]
  },
  {
   "cell_type": "code",
   "execution_count": 52,
   "metadata": {},
   "outputs": [
    {
     "data": {
      "text/plain": [
       "numpy.ndarray"
      ]
     },
     "execution_count": 52,
     "metadata": {},
     "output_type": "execute_result"
    }
   ],
   "source": [
    "type(DATASETS_X[5])"
   ]
  },
  {
   "cell_type": "code",
   "execution_count": 58,
   "metadata": {},
   "outputs": [],
   "source": [
    "from sklearn.ensemble import GradientBoostingClassifier\n",
    "from sklearn.model_selection import cross_val_score\n",
    "\n",
    "GB = GradientBoostingClassifier(random_state=42)"
   ]
  },
  {
   "cell_type": "code",
   "execution_count": 63,
   "metadata": {},
   "outputs": [],
   "source": [
    "def validation(model, X, y, cv, scoring):\n",
    "    score = cross_val_score(model, X, y, cv=cv, scoring=scoring)\n",
    "    print(\"Dataset \" + str(i) +\": {}\".format(score.mean()))"
   ]
  },
  {
   "cell_type": "code",
   "execution_count": 64,
   "metadata": {},
   "outputs": [
    {
     "name": "stdout",
     "output_type": "stream",
     "text": [
      "Dataset 0: 0.8361250560935298\n",
      "Dataset 1: 0.8632881148247555\n",
      "Dataset 2: 0.854039779997418\n",
      "Dataset 3: 0.85196333753859\n",
      "Dataset 4: 0.8544306193184975\n",
      "Dataset 5: 0.852482746253869\n"
     ]
    }
   ],
   "source": [
    "scores = []\n",
    "for i in range(6):\n",
    "    \n",
    "    validation(model=GB, X=np.array(DATASETS_X[i]), y=np.array(DATASETS_y[i]), cv=10, scoring='roc_auc')"
   ]
  },
  {
   "cell_type": "code",
   "execution_count": null,
   "metadata": {},
   "outputs": [],
   "source": []
  }
 ],
 "metadata": {
  "kernelspec": {
   "display_name": "Python 3",
   "language": "python",
   "name": "python3"
  },
  "language_info": {
   "codemirror_mode": {
    "name": "ipython",
    "version": 3
   },
   "file_extension": ".py",
   "mimetype": "text/x-python",
   "name": "python",
   "nbconvert_exporter": "python",
   "pygments_lexer": "ipython3",
   "version": "3.6.8"
  }
 },
 "nbformat": 4,
 "nbformat_minor": 4
}
