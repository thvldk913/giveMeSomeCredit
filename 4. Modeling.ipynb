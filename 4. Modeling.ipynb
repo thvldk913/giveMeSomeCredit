{
 "cells": [
  {
   "cell_type": "markdown",
   "metadata": {},
   "source": [
    "\n",
    "## Validation\n",
    "\n",
    "##### GradientBoosting - StratifiedKfold - test 셋에 적용\n",
    "\n",
    "GradientBoosting: 비대칭 데이터에 효과적이고 강력한 알고리즘\n",
    "\n",
    "StratifiedKfold: 비대칭 데이터를 고려하여 층화추출을 통한 검증을 하였으며, 교차검증으로 데이터셋 추출로 인한 분산오류를 줄이고 모델 성능을 측정하고자함\n",
    "\n",
    "* 프로젝트 기간 문제 상, 입력 오류가 있었던 'DebtRatio', 'MonthlyIncome'에 대한 또 다른 모델링을 하는 아이디어는 구현하지 않기로 함."
   ]
  },
  {
   "cell_type": "code",
   "execution_count": 20,
   "metadata": {},
   "outputs": [],
   "source": [
    "import pandas as pd\n",
    "import numpy as np\n",
    "import seaborn as sns\n",
    "import matplotlib.pyplot as plt"
   ]
  },
  {
   "cell_type": "markdown",
   "metadata": {},
   "source": [
    "## 1. Data load"
   ]
  },
  {
   "cell_type": "code",
   "execution_count": 26,
   "metadata": {},
   "outputs": [
    {
     "name": "stdout",
     "output_type": "stream",
     "text": [
      "(150000, 8)\n",
      "(150000,)\n",
      "(150000, 10)\n",
      "(150000,)\n",
      "(120269, 10)\n",
      "(120269,)\n",
      "(120269, 8)\n",
      "(120269,)\n",
      "(117917, 10)\n",
      "(117917,)\n",
      "(117917, 8)\n",
      "(117917,)\n"
     ]
    }
   ],
   "source": [
    "DATA_IN_PATH = 'C:/Users/이혁주/Desktop/FinTech/give_me_some_credit/datasets/'\n",
    "\n",
    "DATASETS_X = []\n",
    "DATASETS_y = []\n",
    "for i in range(1, 7):\n",
    "    INPUT_TRAIN_DATA_FILE = 'train_data_X_' + str(i) + '.npy'\n",
    "    LABEL_TRAIN_DATA_FILE = 'train_data_y_' + str(i) + '.npy'\n",
    "    \n",
    "    train_input = np.load(open(DATA_IN_PATH + INPUT_TRAIN_DATA_FILE, 'rb'))\n",
    "    train_label = np.load(open(DATA_IN_PATH + LABEL_TRAIN_DATA_FILE, 'rb'))\n",
    "    print(train_input.shape)\n",
    "    print(train_label.shape)\n",
    "    \n",
    "    DATASETS_X.append(train_input)\n",
    "    DATASETS_y.append(train_label)"
   ]
  },
  {
   "cell_type": "code",
   "execution_count": 5,
   "metadata": {},
   "outputs": [
    {
     "data": {
      "text/plain": [
       "numpy.ndarray"
      ]
     },
     "execution_count": 5,
     "metadata": {},
     "output_type": "execute_result"
    }
   ],
   "source": [
    "type(DATASETS_X[0])"
   ]
  },
  {
   "cell_type": "markdown",
   "metadata": {},
   "source": [
    "## 2. Modeling"
   ]
  },
  {
   "cell_type": "code",
   "execution_count": 6,
   "metadata": {},
   "outputs": [],
   "source": [
    "from sklearn.ensemble import GradientBoostingClassifier\n",
    "from sklearn.model_selection import cross_val_score\n",
    "\n",
    "GB = GradientBoostingClassifier(random_state=42)"
   ]
  },
  {
   "cell_type": "code",
   "execution_count": 9,
   "metadata": {},
   "outputs": [],
   "source": [
    "def validation(model, X, y, cv, scoring):\n",
    "    score = cross_val_score(model, X, y, cv=cv, scoring=scoring)\n",
    "    print(\"Dataset \" + str(i+1) +\": {}\".format(score.mean()))"
   ]
  },
  {
   "cell_type": "code",
   "execution_count": 12,
   "metadata": {},
   "outputs": [
    {
     "name": "stdout",
     "output_type": "stream",
     "text": [
      "Dataset 1: 0.8370881882312242\n",
      "Dataset 2: 0.8640037429071853\n",
      "Dataset 3: 0.8547669375754634\n",
      "Dataset 4: 0.8528966716790103\n",
      "Dataset 5: 0.8552617257871123\n",
      "Dataset 6: 0.8530220410685324\n"
     ]
    }
   ],
   "source": [
    "scores = []\n",
    "for i in range(6):\n",
    "    \n",
    "    validation(model=GB, X=np.array(DATASETS_X[i]), y=np.array(DATASETS_y[i]), cv=10, scoring='roc_auc')"
   ]
  },
  {
   "cell_type": "markdown",
   "metadata": {},
   "source": [
    "\n",
    "\n",
    "가장 성능이 좋은 Dataset 2 방식으로 모델링 결정\n",
    "\n",
    "* cv 값 10으로 변경, ppt 결과와 다름"
   ]
  },
  {
   "cell_type": "code",
   "execution_count": 15,
   "metadata": {},
   "outputs": [
    {
     "data": {
      "text/plain": [
       "GradientBoostingClassifier(criterion='friedman_mse', init=None,\n",
       "                           learning_rate=0.1, loss='deviance', max_depth=3,\n",
       "                           max_features=None, max_leaf_nodes=None,\n",
       "                           min_impurity_decrease=0.0, min_impurity_split=None,\n",
       "                           min_samples_leaf=1, min_samples_split=2,\n",
       "                           min_weight_fraction_leaf=0.0, n_estimators=100,\n",
       "                           n_iter_no_change=None, presort='auto',\n",
       "                           random_state=42, subsample=1.0, tol=0.0001,\n",
       "                           validation_fraction=0.1, verbose=0,\n",
       "                           warm_start=False)"
      ]
     },
     "execution_count": 15,
     "metadata": {},
     "output_type": "execute_result"
    }
   ],
   "source": [
    "GB.fit(DATASETS_X[1], DATASETS_y[1])"
   ]
  },
  {
   "cell_type": "code",
   "execution_count": 22,
   "metadata": {},
   "outputs": [
    {
     "data": {
      "text/plain": [
       "array([0.17532995, 0.01797051, 0.12121181, 0.01647222, 0.00952439,\n",
       "       0.00907754, 0.51453312, 0.00936892, 0.12487661, 0.00163491])"
      ]
     },
     "execution_count": 22,
     "metadata": {},
     "output_type": "execute_result"
    }
   ],
   "source": [
    "GB.feature_importances_"
   ]
  }
 ],
 "metadata": {
  "kernelspec": {
   "display_name": "Python 3",
   "language": "python",
   "name": "python3"
  },
  "language_info": {
   "codemirror_mode": {
    "name": "ipython",
    "version": 3
   },
   "file_extension": ".py",
   "mimetype": "text/x-python",
   "name": "python",
   "nbconvert_exporter": "python",
   "pygments_lexer": "ipython3",
   "version": "3.6.8"
  }
 },
 "nbformat": 4,
 "nbformat_minor": 4
}
